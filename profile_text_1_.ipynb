{
  "nbformat": 4,
  "nbformat_minor": 0,
  "metadata": {
    "colab": {
      "provenance": [],
      "authorship_tag": "ABX9TyN4woSq8W8jzHsAUDPlOO9a",
      "include_colab_link": true
    },
    "kernelspec": {
      "name": "python3",
      "display_name": "Python 3"
    },
    "language_info": {
      "name": "python"
    }
  },
  "cells": [
    {
      "cell_type": "markdown",
      "metadata": {
        "id": "view-in-github",
        "colab_type": "text"
      },
      "source": [
        "<a href=\"https://colab.research.google.com/github/mhh070708/safety-room/blob/main/profile_text_1_.ipynb\" target=\"_parent\"><img src=\"https://colab.research.google.com/assets/colab-badge.svg\" alt=\"Open In Colab\"/></a>"
      ]
    },
    {
      "cell_type": "code",
      "execution_count": null,
      "metadata": {
        "id": "d-krYkFvLGso"
      },
      "outputs": [],
      "source": [
        "# 사용자가 숫자를 입력하도록 요청합니다.\n",
        "user_input = input(\"숫자를 입력하세요: \")\n",
        "\n",
        "# 입력값을 정수로 변환합니다.\n",
        "try:\n",
        "    number = int(user_input)\n",
        "\n",
        "    # 숫자가 짝수인지 홀수인지 판별합니다.\n",
        "    if number % 2 == 0:\n",
        "        print(f\"{number}은(는) 짝수입니다.\")\n",
        "    else:\n",
        "        print(f\"{number}은(는) 홀수입니다.\")\n",
        "\n",
        "except ValueError:\n",
        "    print(\"유효한 숫자를 입력해주세요.\")"
      ]
    },
    {
      "cell_type": "markdown",
      "source": [
        "짝수 홀수 판별하는 프로그램."
      ],
      "metadata": {
        "id": "c_y5iTayLjQh"
      }
    }
  ]
}